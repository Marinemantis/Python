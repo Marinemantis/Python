{
 "cells": [
  {
   "cell_type": "code",
   "execution_count": 4,
   "metadata": {},
   "outputs": [
    {
     "name": "stdout",
     "output_type": "stream",
     "text": [
      "a is les than b\n",
      "Hello Python\n",
      "Out of If Statement\n"
     ]
    }
   ],
   "source": [
    "a= 100\n",
    "b= 300\n",
    "\n",
    "if a<b:                        #returns true\n",
    "    print(\"a is les than b\")\n",
    "    print(\"Hello Python\")\n",
    "print(\"Out of If Statement\") \n",
    "\n",
    "if b<a:                       #returns false\n",
    "    print(\"answer is wrong\")  #This block ill not be executed"
   ]
  },
  {
   "cell_type": "code",
   "execution_count": null,
   "metadata": {},
   "outputs": [],
   "source": []
  }
 ],
 "metadata": {
  "kernelspec": {
   "display_name": "Python 3",
   "language": "python",
   "name": "python3"
  },
  "language_info": {
   "codemirror_mode": {
    "name": "ipython",
    "version": 3
   },
   "file_extension": ".py",
   "mimetype": "text/x-python",
   "name": "python",
   "nbconvert_exporter": "python",
   "pygments_lexer": "ipython3",
   "version": "3.7.4"
  }
 },
 "nbformat": 4,
 "nbformat_minor": 2
}
